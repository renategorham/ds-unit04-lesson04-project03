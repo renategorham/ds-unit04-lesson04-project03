{
 "cells": [
  {
   "cell_type": "code",
   "execution_count": 1,
   "metadata": {},
   "outputs": [],
   "source": [
    "import numpy as np\n",
    "import pandas as pd\n",
    "import scipy\n",
    "import matplotlib.pyplot as plt\n",
    "import seaborn as sns\n",
    "%matplotlib inline"
   ]
  },
  {
   "cell_type": "code",
   "execution_count": 2,
   "metadata": {},
   "outputs": [
    {
     "name": "stdout",
     "output_type": "stream",
     "text": [
      "[nltk_data] Downloading package gutenberg to /home/rich/nltk_data...\n",
      "[nltk_data]   Package gutenberg is already up-to-date!\n",
      "['[ Emma by Jane Austen 1816 ]', 'VOLUME I', 'CHAPTER I', 'Emma Woodhouse , handsome , clever , and rich , with a comfortable home and happy disposition , seemed to unite some of the best blessings of existence ; and had lived nearly twenty - one years in the world with very little to distress or vex her .']\n"
     ]
    }
   ],
   "source": [
    "import nltk\n",
    "from nltk.corpus import gutenberg\n",
    "nltk.download('gutenberg')\n",
    "import re\n",
    "from sklearn.model_selection import train_test_split\n",
    "\n",
    "#reading in the data, this time in the form of paragraphs\n",
    "emma=gutenberg.paras('austen-emma.txt')\n",
    "#processing\n",
    "emma_paras=[]\n",
    "for paragraph in emma:\n",
    "    para=paragraph[0]\n",
    "    #removing the double-dash from all words\n",
    "    para=[re.sub(r'--','',word) for word in para]\n",
    "    #Forming each paragraph into a string and adding it to the list of strings.\n",
    "    emma_paras.append(' '.join(para))\n",
    "\n",
    "print(emma_paras[0:4])"
   ]
  },
  {
   "cell_type": "code",
   "execution_count": 3,
   "metadata": {},
   "outputs": [
    {
     "name": "stdout",
     "output_type": "stream",
     "text": [
      "Number of features: 1948\n",
      "Original sentence: A very few minutes more , however , completed the present trial .\n",
      "Tf_idf vector: {'minutes': 0.7127450310382584, 'present': 0.701423210857947}\n"
     ]
    }
   ],
   "source": [
    "from sklearn.feature_extraction.text import TfidfVectorizer\n",
    "\n",
    "X_train_a, X_test_a = train_test_split(emma_paras, test_size=0.4, random_state=0)\n",
    "\n",
    "vectorizer_a = TfidfVectorizer(max_df=0.5, # drop words that occur in more than half the paragraphs\n",
    "                             min_df=2, # only use words that appear at least twice\n",
    "                             stop_words='english', \n",
    "                             lowercase=True, #convert everything to lower case (since Alice in Wonderland has the HABIT of CAPITALIZING WORDS for EMPHASIS)\n",
    "                             use_idf=True,#we definitely want to use inverse document frequencies in our weighting\n",
    "                             norm=u'l2', #Applies a correction factor so that longer paragraphs and shorter paragraphs get treated equally\n",
    "                             smooth_idf=True #Adds 1 to all document frequencies, as if an extra document existed that used every word once.  Prevents divide-by-zero errors\n",
    "                            )\n",
    "\n",
    "\n",
    "#Applying the vectorizer\n",
    "emma_paras_a_tfidf=vectorizer_a.fit_transform(emma_paras)\n",
    "print(\"Number of features: %d\" % emma_paras_a_tfidf.get_shape()[1])\n",
    "\n",
    "#splitting into training and test sets\n",
    "X_train_a_tfidf, X_test_a_tfidf= train_test_split(emma_paras_a_tfidf, test_size=0.4, random_state=0)\n",
    "\n",
    "\n",
    "#Reshapes the vectorizer output into something people can read\n",
    "X_train_a_tfidf_csr = X_train_a_tfidf.tocsr()\n",
    "\n",
    "#number of paragraphs\n",
    "n = X_train_a_tfidf_csr.shape[0]\n",
    "#A list of dictionaries, one per paragraph\n",
    "tfidf_a_bypara = [{} for _ in range(0,n)]\n",
    "#List of features\n",
    "terms_a = vectorizer_a.get_feature_names()\n",
    "#for each paragraph, lists the feature words and their tf-idf scores\n",
    "for i, j in zip(*X_train_a_tfidf_csr.nonzero()):\n",
    "    tfidf_a_bypara[i][terms_a[j]] = X_train_a_tfidf_csr[i, j]\n",
    "\n",
    "#Keep in mind that the log base 2 of 1 is 0, so a tf-idf score of 0 indicates that the word was present once in that sentence.\n",
    "print('Original sentence:', X_train_a[5])\n",
    "print('Tf_idf vector:', tfidf_a_bypara[5])"
   ]
  },
  {
   "cell_type": "code",
   "execution_count": 4,
   "metadata": {},
   "outputs": [
    {
     "name": "stdout",
     "output_type": "stream",
     "text": [
      "Percent variance captured by all components: 45.18340691905003\n",
      "Component 0:\n",
      "\" Oh !     0.999292\n",
      "\" Oh !     0.999292\n",
      "\" Oh !     0.999292\n",
      "\" Oh !     0.999292\n",
      "\" Oh !     0.999292\n",
      "\" Oh !     0.999292\n",
      "\" Oh !     0.999292\n",
      "\" Oh !     0.999292\n",
      "\" Oh !\"    0.999292\n",
      "\" Oh !     0.999292\n",
      "Name: 0, dtype: float64\n",
      "Component 1:\n",
      "\" You have made her too tall , Emma ,\" said Mr . Knightley .                                                                                                                                                                                                                                                                                                                                                                                                                                                                                                                                                                                                                                                                                                                                                                                                                                                                                     0.635105\n",
      "\" You get upon delicate subjects , Emma ,\" said Mrs . Weston smiling ; \" remember that I am here . Mr .                                                                                                                                                                                                                                                                                                                                                                                                                                                                                                                                                                                                                                                                                                                                                                                                                                          0.586949\n",
      "\" I do not know what your opinion may be , Mrs . Weston ,\" said Mr . Knightley , \" of this great intimacy between Emma and Harriet Smith , but I think it a bad thing .\"                                                                                                                                                                                                                                                                                                                                                                                                                                                                                                                                                                                                                                                                                                                                                                         0.563723\n",
      "\" You are right , Mrs . Weston ,\" said Mr . Knightley warmly , \" Miss Fairfax is as capable as any of us of forming a just opinion of Mrs . Elton .                                                                                                                                                                                                                                                                                                                                                                                                                                                                                                                                                                                                                                                                                                                                                                                              0.556152\n",
      "\" There were misunderstandings between them , Emma ; he said so expressly .                                                                                                                                                                                                                                                                                                                                                                                                                                                                                                                                                                                                                                                                                                                                                                                                                                                                      0.528435\n",
      "Mr . Knightley might quarrel with her , but Emma could not quarrel with herself .                                                                                                                                                                                                                                                                                                                                                                                                                                                                                                                                                                                                                                                                                                                                                                                                                                                                0.526020\n",
      "\" Now ,\" said Emma , when they were fairly beyond the sweep gates , \" now Mr . Weston , do let me know what has happened .\"                                                                                                                                                                                                                                                                                                                                                                                                                                                                                                                                                                                                                                                                                                                                                                                                                      0.513091\n",
      "\" In one respect , perhaps , Mr . Elton ' s manners are superior to Mr . Knightley ' s or Mr . Weston ' s .                                                                                                                                                                                                                                                                                                                                                                                                                                                                                                                                                                                                                                                                                                                                                                                                                                      0.510795\n",
      "Emma found that it was not Mr . Weston ' s fault that the number of privy councillors was not yet larger .                                                                                                                                                                                                                                                                                                                                                                                                                                                                                                                                                                                                                                                                                                                                                                                                                                       0.506650\n",
      "Mrs . Weston was acting no part , feigning no feelings in all that she said to him in favour of the event . She had been extremely surprized , never more so , than when Emma first opened the affair to her ; but she saw in it only increase of happiness to all , and had no scruple in urging him to the utmost . She had such a regard for Mr . Knightley , as to think he deserved even her dearest Emma ; and it was in every respect so proper , suitable , and unexceptionable a connexion , and in one respect , one point of the highest importance , so peculiarly eligible , so singularly fortunate , that now it seemed as if Emma could not safely have attached herself to any other creature , and that she had herself been the stupidest of beings in not having thought of it , and wished it long ago . How very few of those men in a rank of life to address Emma would have renounced their own home for Hartfield !    0.499799\n",
      "Name: 1, dtype: float64\n",
      "Component 2:\n",
      "CHAPTER V       0.998615\n",
      "CHAPTER X       0.998615\n",
      "CHAPTER I       0.998615\n",
      "CHAPTER V       0.998615\n",
      "CHAPTER V       0.998615\n",
      "CHAPTER I       0.998615\n",
      "CHAPTER X       0.998615\n",
      "CHAPTER X       0.998615\n",
      "CHAPTER I       0.998615\n",
      "CHAPTER XVII    0.997444\n",
      "Name: 2, dtype: float64\n",
      "Component 3:\n",
      "But ah !    0.99292\n",
      "\" Ah !      0.99292\n",
      "\" Ah !\"     0.99292\n",
      "\" Ah !      0.99292\n",
      "\" Ah !      0.99292\n",
      "\" Ah !      0.99292\n",
      "\" Ah !      0.99292\n",
      "\" Ah !      0.99292\n",
      "\" Ah !      0.99292\n",
      "\" Ah !      0.99292\n",
      "Name: 3, dtype: float64\n",
      "Component 4:\n",
      "\" There were misunderstandings between them , Emma ; he said so expressly .    0.650692\n",
      "Emma demurred .                                                                0.598820\n",
      "\" Are you well , my Emma ?\"                                                    0.598820\n",
      "Emma was silenced .                                                            0.587645\n",
      "At first it was downright dulness to Emma .                                    0.586691\n",
      "\" Emma , my dear Emma \"                                                        0.576699\n",
      "Emma could not resist .                                                        0.567902\n",
      "\" It is not now worth a regret ,\" said Emma .                                  0.559333\n",
      "\" For shame , Emma !                                                           0.545551\n",
      "\" I am ready ,\" said Emma , \" whenever I am wanted .\"                          0.522367\n",
      "Name: 4, dtype: float64\n"
     ]
    }
   ],
   "source": [
    "from sklearn.decomposition import TruncatedSVD\n",
    "from sklearn.pipeline import make_pipeline\n",
    "from sklearn.preprocessing import Normalizer\n",
    "\n",
    "#Our SVD data reducer.  We are going to reduce the feature space from 1379 to 130.\n",
    "svd_a= TruncatedSVD(130)\n",
    "lsa_a = make_pipeline(svd_a, Normalizer(copy=False))\n",
    "# Run SVD on the training data, then project the training data.\n",
    "X_train_a_lsa = lsa_a.fit_transform(X_train_a_tfidf)\n",
    "\n",
    "variance_explained_a=svd_a.explained_variance_ratio_\n",
    "total_variance_a = variance_explained_a.sum()\n",
    "print(\"Percent variance captured by all components:\",total_variance_a*100)\n",
    "\n",
    "#Looking at what sorts of paragraphs our solution considers similar, for the first five identified topics\n",
    "paras_by_component_a=pd.DataFrame(X_train_a_lsa,index=X_train_a)\n",
    "for i in range(5):\n",
    "    print('Component {}:'.format(i))\n",
    "    print(paras_by_component_a.loc[:,i].sort_values(ascending=False)[0:10])\n",
    "\n",
    "\n"
   ]
  },
  {
   "cell_type": "code",
   "execution_count": 5,
   "metadata": {},
   "outputs": [
    {
     "data": {
      "image/png": "[encoded data removed]",
      "text/plain": [
       "<Figure size 432x288 with 2 Axes>"
      ]
     },
     "metadata": {
      "needs_background": "light"
     },
     "output_type": "display_data"
    },
    {
     "name": "stdout",
     "output_type": "stream",
     "text": [
      "Key:\n",
      "0 That is _court_ .\n",
      "1 \" Yes , sir , I did indeed ; and I am very much obliged by your kind solicitude about me .\"\n",
      "2 \" How much his business engrosses him already is very plain from the circumstance of his forgetting to inquire for the book you recommended .\n",
      "3 To restrain him as much as might be , by her own manners , she was immediately preparing to speak with exquisite calmness and gravity of the weather and the night ; but scarcely had she begun , scarcely had they passed the sweep - gate and joined the other carriage , than she found her subject cut up  her hand seized  her attention demanded , and Mr . Elton actually making violent love to her : availing himself of the precious opportunity , declaring sentiments which must be already well known , hoping  fearing  adoring  ready to die if she refused him ; but flattering himself that his ardent attachment and unequalled love and unexampled passion could not fail of having some effect , and in short , very much resolved on being seriously accepted as soon as possible .\n",
      "4 Emma smiled and answered \" My visit was of use to the nervous part of her complaint , I hope ; but not even I can charm away a sore throat ; it is a most severe cold indeed .\n",
      "5 A very few minutes more , however , completed the present trial .\n",
      "6 \" I am delighted to hear you speak so stoutly on the subject ,\" replied Emma , smiling ; \" but you do not mean to deny that there was a time  and not very distant either  when you gave me reason to understand that you did care about him ?\"\n",
      "7 \" Very well ; and if he had intended to give her one , he would have told her so .\"\n",
      "8 Some laughed , and answered good - humouredly .\n",
      "9 \" There appeared such a perfectly good understanding among them all \" he began rather quickly , but checking himself , added , \" however , it is impossible for me to say on what terms they really were  how it might all be behind the scenes .\n"
     ]
    }
   ],
   "source": [
    "# Compute document similarity using LSA components\n",
    "similarity_a = np.asarray(np.asmatrix(X_train_a_lsa) * np.asmatrix(X_train_a_lsa).T)\n",
    "#Only taking the first 10 sentences\n",
    "sim_matrix_a=pd.DataFrame(similarity_a,index=X_train_a).iloc[0:10,0:10]\n",
    "#Making a plot\n",
    "ax = sns.heatmap(sim_matrix_a,yticklabels=range(10))\n",
    "plt.show()\n",
    "\n",
    "#Generating a key for the plot.\n",
    "print('Key:')\n",
    "for i in range(10):\n",
    "    print(i,sim_matrix_a.index[i])\n"
   ]
  },
  {
   "cell_type": "code",
   "execution_count": 6,
   "metadata": {},
   "outputs": [
    {
     "name": "stdout",
     "output_type": "stream",
     "text": [
      "Percent variance captured by all components: 49.36510918920772\n",
      "Component 0:\n",
      "\" Oh !         0.999921\n",
      "\" Me ! oh !    0.999921\n",
      "\" Oh !         0.999921\n",
      "\" Oh !         0.999921\n",
      "\" Oh !         0.999921\n",
      "\" Oh !         0.999921\n",
      "\" Oh !         0.999921\n",
      "\" Oh !         0.999921\n",
      "\" Oh !         0.999921\n",
      "\" Oh !         0.999921\n",
      "Name: 0, dtype: float64\n",
      "Component 1:\n",
      "\" Well , Mrs . Weston ,\" said Emma triumphantly when he left them , \" what do you say now to Mr . Knightley ' s marrying Jane Fairfax ?\"                                                                                                                                                                                                                                                                                                             0.615898\n",
      "After tea , Mr . and Mrs . Weston , and Mr . Elton sat down with Mr . Woodhouse to cards .                                                                                                                                                                                                                                                                                                                                                           0.598667\n",
      "Frank turned instantly to Emma , to claim her former promise ; and boasted himself an engaged man , which his father looked his most perfect approbation of  and it then appeared that Mrs . Weston was wanting _him_ to dance with Mrs . Elton himself , and that their business was to help to persuade him into it , which was done pretty soon . Mr . Weston and Mrs . Elton led the way , Mr . Frank Churchill and Miss Woodhouse followed .    0.563104\n",
      "\" Mr .                                                                                                                                                                                                                                                                                                                                                                                                                                               0.518102\n",
      "While she was gone , Mr . Knightley called , and sat some time with Mr . Woodhouse and Emma , till Mr . Woodhouse , who had previously made up his mind to walk out , was persuaded by his daughter not to defer it , and was induced by the entreaties of both , though against the scruples of his own civility , to leave Mr . Knightley for that purpose .                                                                                       0.512382\n",
      "Mr . Weston was musing .                                                                                                                                                                                                                                                                                                                                                                                                                             0.505456\n",
      "\" Mrs . Weston ' s manners ,\" said Emma , \" were always particularly good .                                                                                                                                                                                                                                                                                                                                                                          0.495050\n",
      "\" I think , indeed ,\" said John Knightley pleasantly , \" that Mr . Weston has some little claim .                                                                                                                                                                                                                                                                                                                                                    0.491147\n",
      "\" Why , to be sure ,\" said Mr . Woodhouse \" yes , certainly  I cannot deny that Mrs . Weston , poor Mrs . Weston , does come and see us pretty often  but then  she is always obliged to go away again .\"                                                                                                                                                                                                                                            0.487901\n",
      "In this walk Emma and Mr . Weston found all the others assembled ; and towards this view she immediately perceived Mr . Knightley and Harriet distinct from the rest , quietly leading the way .                                                                                                                                                                                                                                                     0.487546\n",
      "Name: 1, dtype: float64\n",
      "Component 2:\n",
      "\" Ah !     0.996972\n",
      "\" Ah !     0.996972\n",
      "\" Ah !     0.996972\n",
      "\" Ah !     0.996972\n",
      "\" Ah !\"    0.996972\n",
      "\" Ah !\"    0.996972\n",
      "\" Ah !     0.996972\n",
      "\" Ah !     0.996972\n",
      "\" Ah !     0.996972\n",
      "\" Ah !     0.996972\n",
      "Name: 2, dtype: float64\n",
      "Component 3:\n",
      "\" Mr .                                                                                                                                                                                                                                                                                                                                                            0.632198\n",
      "After tea , Mr . and Mrs . Weston , and Mr . Elton sat down with Mr . Woodhouse to cards .                                                                                                                                                                                                                                                                        0.562900\n",
      "Mr . Knightley was thoughtful again .                                                                                                                                                                                                                                                                                                                             0.524858\n",
      "\" You are not vain , Mr . Knightley .                                                                                                                                                                                                                                                                                                                             0.507186\n",
      "Mr . Weston was musing .                                                                                                                                                                                                                                                                                                                                          0.500063\n",
      "Mr . Weston ' s own happiness was indisputable .                                                                                                                                                                                                                                                                                                                  0.451064\n",
      "She meant to be very happy , in spite of the scene being laid at Mr . Cole ' s ; and without being able to forget that among the failings of Mr . Elton , even in the days of his favour , none had disturbed her more than his propensity to dine with Mr . Cole .                                                                                               0.418967\n",
      "Harriet , Mr . Elton , and Mr . Knightley , their own especial set , were the only persons invited to meet them ; the hours were to be early , as well as the numbers few ; Mr . Woodhouse ' s habits and inclination being consulted in every thing .                                                                                                            0.406698\n",
      "\" Christmas weather ,\" observed Mr . Elton .                                                                                                                                                                                                                                                                                                                      0.391951\n",
      "While she was gone , Mr . Knightley called , and sat some time with Mr . Woodhouse and Emma , till Mr . Woodhouse , who had previously made up his mind to walk out , was persuaded by his daughter not to defer it , and was induced by the entreaties of both , though against the scruples of his own civility , to leave Mr . Knightley for that purpose .    0.390728\n",
      "Name: 3, dtype: float64\n",
      "Component 4:\n",
      "\" Yes .                                                                         0.652783\n",
      "\" Yes , sometimes he can .\"                                                     0.652783\n",
      "\" Yes , do .\"                                                                   0.652783\n",
      "\" Yes I should , I am sure I should .                                           0.639351\n",
      "\" Yes , so I imagined .                                                         0.607950\n",
      "\" Yes  a good deal _nearer_ .\"                                                  0.564989\n",
      "\" Yes , our good Mrs . Elton .                                                  0.553244\n",
      "\" Yes ; but we must not rest our claims on that distinction .                   0.549627\n",
      "\" Yes , she would be , but that she thinks there will be another put - off .    0.535839\n",
      "\" Yes , very soon .                                                             0.534092\n",
      "Name: 4, dtype: float64\n"
     ]
    }
   ],
   "source": [
    "# Run SVD on the training data, then project the training data.\n",
    "X_test_a_lsa = lsa_a.fit_transform(X_test_a_tfidf)\n",
    "\n",
    "variance_explained_a=svd_a.explained_variance_ratio_\n",
    "total_variance_a = variance_explained_a.sum()\n",
    "print(\"Percent variance captured by all components:\",total_variance_a*100)\n",
    "\n",
    "#Looking at what sorts of paragraphs our solution considers similar, for the first five identified topics\n",
    "paras_by_component_a=pd.DataFrame(X_test_a_lsa,index=X_test_a)\n",
    "for i in range(5):\n",
    "    print('Component {}:'.format(i))\n",
    "    print(paras_by_component_a.loc[:,i].sort_values(ascending=False)[0:10])"
   ]
  },
  {
   "cell_type": "code",
   "execution_count": 7,
   "metadata": {},
   "outputs": [
    {
     "data": {
      "image/png": "[encoded data removed]",
      "text/plain": [
       "<Figure size 432x288 with 2 Axes>"
      ]
     },
     "metadata": {
      "needs_background": "light"
     },
     "output_type": "display_data"
    },
    {
     "name": "stdout",
     "output_type": "stream",
     "text": [
      "Key:\n",
      "0 Mr . Woodhouse had so completely made up his mind to the visit , that in spite of the increasing coldness , he seemed to have no idea of shrinking from it , and set forward at last most punctually with his eldest daughter in his own carriage , with less apparent consciousness of the weather than either of the others ; too full of the wonder of his own going , and the pleasure it was to afford at Randalls to see that it was cold , and too well wrapt up to feel it .\n",
      "1 \" Oh !\n",
      "2 \" Oh no , no !\n",
      "3 Such was Jane Fairfax ' s history .\n",
      "4 \" That has been a good deal the case , my dear ; but not to the degree you mention .\n",
      "5 \" And I am quite serious too , I assure you ,\" replied Mrs . Elton gaily , \" in resolving to be always on the watch , and employing my friends to watch also , that nothing really unexceptionable may pass us .\"\n",
      "6 \" And here is Mrs . Weston and Mr . Frank Churchill too ! Quite delightful ; so many friends !\"\n",
      "7 \" You may well class the delight , the honour , and the comfort of such a situation together ,\" said Jane , \" they are pretty sure to be equal ; however , I am very serious in not wishing any thing to be attempted at present for me .\n",
      "8 Harriet , Mr . Elton , and Mr . Knightley , their own especial set , were the only persons invited to meet them ; the hours were to be early , as well as the numbers few ; Mr . Woodhouse ' s habits and inclination being consulted in every thing .\n",
      "9 \" Oh !\n"
     ]
    }
   ],
   "source": [
    "# Compute document similarity using LSA components\n",
    "similarity_a = np.asarray(np.asmatrix(X_test_a_lsa) * np.asmatrix(X_test_a_lsa).T)\n",
    "#Only taking the first 10 sentences\n",
    "sim_matrix_a=pd.DataFrame(similarity_a,index=X_test_a).iloc[0:10,0:10]\n",
    "#Making a plot\n",
    "ax = sns.heatmap(sim_matrix_a,yticklabels=range(10))\n",
    "plt.show()\n",
    "\n",
    "#Generating a key for the plot.\n",
    "print('Key:')\n",
    "for i in range(10):\n",
    "    print(i,sim_matrix_a.index[i])\n"
   ]
  },
  {
   "cell_type": "code",
   "execution_count": 12,
   "metadata": {},
   "outputs": [
    {
     "name": "stdout",
     "output_type": "stream",
     "text": [
      "Number of features: 1948\n",
      "Original sentence: A very few minutes more , however , completed the present trial .\n",
      "Tf_idf vector: {'minutes': 0.7127450310382584, 'present': 0.701423210857947}\n"
     ]
    }
   ],
   "source": [
    "X_train_b, X_test_b = train_test_split(emma_paras, test_size=0.4, random_state=0)\n",
    "\n",
    "vectorizer_b = TfidfVectorizer(max_df=0.25, # drop words that occur in more than three-quaters the paragraphs\n",
    "                             min_df=2, # only use words that appear at least twice\n",
    "                             stop_words='english', \n",
    "                             lowercase=True, #convert everything to lower case (since Alice in Wonderland has the HABIT of CAPITALIZING WORDS for EMPHASIS)\n",
    "                             use_idf=True,#we definitely want to use inverse document frequencies in our weighting\n",
    "                             norm=u'l2', #Applies a correction factor so that longer paragraphs and shorter paragraphs get treated equally\n",
    "                             smooth_idf=True #Adds 1 to all document frequencies, as if an extra document existed that used every word once.  Prevents divide-by-zero errors\n",
    "                            )\n",
    "\n",
    "\n",
    "#Applying the vectorizer\n",
    "emma_paras_b_tfidf=vectorizer_b.fit_transform(emma_paras)\n",
    "print(\"Number of features: %d\" % emma_paras_b_tfidf.get_shape()[1])\n",
    "\n",
    "#splitting into training and test sets\n",
    "X_train_b_tfidf, X_test_b_tfidf= train_test_split(emma_paras_b_tfidf, test_size=0.4, random_state=0)\n",
    "\n",
    "\n",
    "#Reshapes the vectorizer output into something people can read\n",
    "X_train_b_tfidf_csr = X_train_b_tfidf.tocsr()\n",
    "\n",
    "#number of paragraphs\n",
    "n = X_train_b_tfidf_csr.shape[0]\n",
    "#A list of dictionaries, one per paragraph\n",
    "tfidf_bypara_b = [{} for _ in range(0,n)]\n",
    "#List of features\n",
    "terms_b = vectorizer_b.get_feature_names()\n",
    "#for each paragraph, lists the feature words and their tf-idf scores\n",
    "for i, j in zip(*X_train_b_tfidf_csr.nonzero()):\n",
    "    tfidf_bypara_b[i][terms_b[j]] = X_train_b_tfidf_csr[i, j]\n",
    "\n",
    "#Keep in mind that the log base 2 of 1 is 0, so a tf-idf score of 0 indicates that the word was present once in that sentence.\n",
    "print('Original sentence:', X_train_b[5])\n",
    "print('Tf_idf vector:', tfidf_bypara_b[5])"
   ]
  },
  {
   "cell_type": "code",
   "execution_count": 13,
   "metadata": {},
   "outputs": [
    {
     "name": "stdout",
     "output_type": "stream",
     "text": [
      "Percent variance captured by all components: 45.176206475878544\n",
      "Component 0:\n",
      "\" Oh !    0.999291\n",
      "\" Oh !    0.999291\n",
      "\" Oh !    0.999291\n",
      "\" Oh !    0.999291\n",
      "\" Oh !    0.999291\n",
      "\" Oh !    0.999291\n",
      "\" Oh !    0.999291\n",
      "\" Oh !    0.999291\n",
      "\" Oh !    0.999291\n",
      "\" Oh !    0.999291\n",
      "Name: 0, dtype: float64\n",
      "Component 1:\n",
      "\" You have made her too tall , Emma ,\" said Mr . Knightley .                                                                                                                0.634587\n",
      "\" You get upon delicate subjects , Emma ,\" said Mrs . Weston smiling ; \" remember that I am here . Mr .                                                                     0.577224\n",
      "\" I do not know what your opinion may be , Mrs . Weston ,\" said Mr . Knightley , \" of this great intimacy between Emma and Harriet Smith , but I think it a bad thing .\"    0.558946\n",
      "\" You are right , Mrs . Weston ,\" said Mr . Knightley warmly , \" Miss Fairfax is as capable as any of us of forming a just opinion of Mrs . Elton .                         0.555659\n",
      "\" There were misunderstandings between them , Emma ; he said so expressly .                                                                                                 0.528238\n",
      "Mr . Knightley might quarrel with her , but Emma could not quarrel with herself .                                                                                           0.521939\n",
      "\" In one respect , perhaps , Mr . Elton ' s manners are superior to Mr . Knightley ' s or Mr . Weston ' s .                                                                 0.507180\n",
      "Emma found that it was not Mr . Weston ' s fault that the number of privy councillors was not yet larger .                                                                  0.504077\n",
      "\" Now ,\" said Emma , when they were fairly beyond the sweep gates , \" now Mr . Weston , do let me know what has happened .\"                                                 0.502294\n",
      "\" I do not admire it ,\" said Mr . Knightley .                                                                                                                               0.499947\n",
      "Name: 1, dtype: float64\n",
      "Component 2:\n",
      "CHAPTER I       0.998529\n",
      "CHAPTER X       0.998529\n",
      "CHAPTER X       0.998529\n",
      "CHAPTER V       0.998529\n",
      "CHAPTER I       0.998529\n",
      "CHAPTER V       0.998529\n",
      "CHAPTER I       0.998529\n",
      "CHAPTER V       0.998529\n",
      "CHAPTER X       0.998529\n",
      "CHAPTER XIII    0.997330\n",
      "Name: 2, dtype: float64\n",
      "Component 3:\n",
      "\" Ah !      0.992919\n",
      "\" Ah !      0.992919\n",
      "\" Ah !      0.992919\n",
      "\" Ah !      0.992919\n",
      "But ah !    0.992919\n",
      "\" Ah !      0.992919\n",
      "\" Ah !      0.992919\n",
      "But ah !    0.992919\n",
      "\" Ah !      0.992919\n",
      "\" Ah !      0.992919\n",
      "Name: 3, dtype: float64\n",
      "Component 4:\n",
      "\" There were misunderstandings between them , Emma ; he said so expressly .    0.650450\n",
      "Emma demurred .                                                                0.598943\n",
      "\" Are you well , my Emma ?\"                                                    0.598943\n",
      "Emma was silenced .                                                            0.588133\n",
      "At first it was downright dulness to Emma .                                    0.587208\n",
      "\" Emma , my dear Emma \"                                                        0.576930\n",
      "Emma could not resist .                                                        0.568879\n",
      "\" It is not now worth a regret ,\" said Emma .                                  0.567791\n",
      "\" For shame , Emma !                                                           0.546640\n",
      "\" I am ready ,\" said Emma , \" whenever I am wanted .\"                          0.495466\n",
      "Name: 4, dtype: float64\n"
     ]
    }
   ],
   "source": [
    "#Our SVD data reducer.  We are going to reduce the feature space from 1379 to 130.\n",
    "svd_b= TruncatedSVD(130)\n",
    "lsa_b = make_pipeline(svd_b, Normalizer(copy=False))\n",
    "# Run SVD on the training data, then project the training data.\n",
    "X_train_b_lsa = lsa_b.fit_transform(X_train_b_tfidf)\n",
    "\n",
    "variance_explained_b=svd_b.explained_variance_ratio_\n",
    "total_variance_b = variance_explained_b.sum()\n",
    "print(\"Percent variance captured by all components:\",total_variance_b*100)\n",
    "\n",
    "#Looking at what sorts of paragraphs our solution considers similar, for the first five identified topics\n",
    "paras_by_component_b=pd.DataFrame(X_train_b_lsa,index=X_train_b)\n",
    "for i in range(5):\n",
    "    print('Component {}:'.format(i))\n",
    "    print(paras_by_component_b.loc[:,i].sort_values(ascending=False)[0:10])"
   ]
  },
  {
   "cell_type": "code",
   "execution_count": 14,
   "metadata": {},
   "outputs": [
    {
     "data": {
      "image/png": "[encoded data removed]",
      "text/plain": [
       "<Figure size 432x288 with 2 Axes>"
      ]
     },
     "metadata": {
      "needs_background": "light"
     },
     "output_type": "display_data"
    },
    {
     "name": "stdout",
     "output_type": "stream",
     "text": [
      "Key:\n",
      "0 \" And when she had come away , Mrs . Martin was so very kind as to send Mrs . Goddard a beautiful goose  the finest goose Mrs . Goddard had ever seen .\n",
      "1 \" I am afraid ,\" said he , composing his features , \" I am very much afraid , my dear Emma , that you will not smile when you hear it .\"\n",
      "2 Mr . Weston , with triumph of a different sort , was confessing that he had known it to be snowing some time , but had not said a word , lest it should make Mr . Woodhouse uncomfortable , and be an excuse for his hurrying away .\n",
      "3 All this spoken extremely fast obliged Miss Bates to stop for breath ; and Emma said something very civil about the excellence of Miss Fairfax ' s handwriting .\n",
      "4 \" He knew nothing about it , Emma .\n",
      "5 \" Oh !\n",
      "6 He had time only to say ,\n",
      "7 \" Oh !\n",
      "8 \" Nonsense !\n",
      "9 \" I can never think of it ,\" she cried , \" without extreme shame .\"\n"
     ]
    }
   ],
   "source": [
    "# Compute document similarity using LSA components\n",
    "similarity_b = np.asarray(np.asmatrix(X_train_b_lsa) * np.asmatrix(X_train_b_lsa).T)\n",
    "#Only taking the first 10 sentences\n",
    "sim_matrix_b=pd.DataFrame(similarity_b,index=X_train_b).iloc[10:20,10:20]\n",
    "#Making a plot\n",
    "ax = sns.heatmap(sim_matrix_b,yticklabels=range(10,20))\n",
    "plt.show()\n",
    "\n",
    "#Generating a key for the plot.\n",
    "print('Key:')\n",
    "for i in range(10):\n",
    "    print(i,sim_matrix_b.index[i])\n"
   ]
  },
  {
   "cell_type": "code",
   "execution_count": null,
   "metadata": {},
   "outputs": [],
   "source": []
  },
  {
   "cell_type": "code",
   "execution_count": null,
   "metadata": {},
   "outputs": [],
   "source": []
  }
 ],
 "metadata": {
  "kernelspec": {
   "display_name": "Python 3",
   "language": "python",
   "name": "python3"
  },
  "language_info": {
   "codemirror_mode": {
    "name": "ipython",
    "version": 3
   },
   "file_extension": ".py",
   "mimetype": "text/x-python",
   "name": "python",
   "nbconvert_exporter": "python",
   "pygments_lexer": "ipython3",
   "version": "3.6.7"
  }
 },
 "nbformat": 4,
 "nbformat_minor": 2
}
